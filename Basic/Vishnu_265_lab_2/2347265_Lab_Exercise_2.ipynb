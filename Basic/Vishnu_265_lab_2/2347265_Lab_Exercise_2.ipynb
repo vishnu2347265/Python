{
 "cells": [
  {
   "cell_type": "markdown",
   "metadata": {},
   "source": [
    "VISHNU SWAROOP P S - 2347265 - MCA B -\n",
    "LAB EXERCISE - 2"
   ]
  },
  {
   "cell_type": "code",
   "execution_count": 1,
   "metadata": {},
   "outputs": [
    {
     "name": "stdout",
     "output_type": "stream",
     "text": [
      "['Inventory Management', 'Prescription Processing']\n",
      "['Inventory Management', 'Prescription Processing', 'Drug Interactions Checking', 'Pharmacist Dashboard']\n",
      "('Pharmacy Analytics', 'Barcode Scanning', 'e-Prescriptions')\n",
      "['Inventory Management', 'Prescription Processing', 'Drug Interactions Checking', 'Pharmacist Dashboard', 'Pharmacy Analytics', 'Barcode Scanning', 'e-Prescriptions']\n",
      "{'Pharmacy Billing', 'Drug Pricing'}\n",
      "['Inventory Management', 'Prescription Processing', 'Drug Interactions Checking', 'Pharmacist Dashboard', 'Pharmacy Analytics', 'Barcode Scanning', 'e-Prescriptions', 'Pharmacy Billing', 'Drug Pricing']\n",
      "{'Robotic Dispensing': True, 'Electronic Health Records': True}\n",
      "['Inventory Management', 'Prescription Processing', 'Drug Interactions Checking', 'Pharmacist Dashboard', 'Pharmacy Analytics', 'Barcode Scanning', 'e-Prescriptions', 'Pharmacy Billing', 'Drug Pricing', 'Robotic Dispensing', 'Electronic Health Records']\n"
     ]
    }
   ],
   "source": [
    "#1.   Create a LIST with your domain attributes, insert the elements using the append (), insert(), extend() and add any iterables (tuples, sets, dictionaries etc.) to the list (Use all the methods ).\n",
    "\n",
    "\n",
    "pharmacy_attributes = []\n",
    "\n",
    "pharmacy_attributes.append(\"Inventory Management\")\n",
    "pharmacy_attributes.append(\"Prescription Processing\")\n",
    "print(pharmacy_attributes)\n",
    "\n",
    "\n",
    "pharmacy_attributes.insert(2, \"Drug Interactions Checking\")\n",
    "pharmacy_attributes.insert(4, \"Pharmacist Dashboard\")\n",
    "print(pharmacy_attributes)\n",
    "\n",
    "tuple = (\"Pharmacy Analytics\", \"Barcode Scanning\", \"e-Prescriptions\")\n",
    "print(tuple)\n",
    "pharmacy_attributes.extend(tuple)\n",
    "print(pharmacy_attributes)\n",
    "\n",
    "set = {\"Drug Pricing\", \"Pharmacy Billing\"}\n",
    "print(set)\n",
    "pharmacy_attributes.extend(set)\n",
    "print(pharmacy_attributes)\n",
    "\n",
    "\n",
    "dict = {\"Robotic Dispensing\": True, \"Electronic Health Records\": True}\n",
    "print(dict)\n",
    "pharmacy_attributes.extend(dict.keys())\n",
    "\n",
    "print(pharmacy_attributes)\n"
   ]
  },
  {
   "cell_type": "code",
   "execution_count": 6,
   "metadata": {},
   "outputs": [
    {
     "name": "stdout",
     "output_type": "stream",
     "text": [
      "After swapping: [45, 3, 75, 28, 23, 10]\n",
      "Total sum: 184\n",
      "Smallest : 3\n"
     ]
    }
   ],
   "source": [
    "#2    Create a list with numeric and perform the following operations.\n",
    "# a.  Write a program to swap the first and last elements in a list.\n",
    "# b.  Write a program to find the sum of the digits in a list.\n",
    "# c.  Write a program to find the smallest element in a list.\n",
    "\n",
    "num_list = [10, 3, 75, 28, 23, 45]\n",
    "num_list[0], num_list[-1] = num_list[-1], num_list[0]\n",
    "print(\"After swapping:\", num_list)\n",
    "added = sum(num_list)\n",
    "print(\"Total sum:\", added)\n",
    "smallest = min(num_list)\n",
    "print(\"Smallest :\", smallest)"
   ]
  },
  {
   "cell_type": "code",
   "execution_count": 1,
   "metadata": {},
   "outputs": [
    {
     "name": "stdout",
     "output_type": "stream",
     "text": [
      "Pharmacy Inventory (Sorted by Key):\n",
      "Antibiotics: 30\n",
      "Aspirin: 100\n",
      "Cough Syrup: 75\n",
      "Paracetamol: 50\n",
      "Vitamin C: 60\n"
     ]
    }
   ],
   "source": [
    "#   ii)  Dictionaries\n",
    "#       a. Sort the dictionaries in ascending order based on the Key of the dictionary.\n",
    "\n",
    "\n",
    "pharmacy_inventory = {'Aspirin': 100,'Paracetamol': 50,'Cough Syrup': 75,'Antibiotics': 30,'Vitamin C': 60}\n",
    "\n",
    "sorted_inventory = dict(sorted(pharmacy_inventory.items()))\n",
    "\n",
    "print(\"Pharmacy Inventory (Sorted by Key):\")\n",
    "for item, quantity in sorted_inventory.items():\n",
    "    print(f\"{item}: {quantity}\")\n"
   ]
  },
  {
   "cell_type": "code",
   "execution_count": 7,
   "metadata": {},
   "outputs": [
    {
     "name": "stdout",
     "output_type": "stream",
     "text": [
      "Pharmacy Dictionary:\n",
      "paracetamol : 100\n",
      "aspirin : 75\n",
      "ibuprofen : 50\n",
      "antacid : 121\n",
      "antibiotic : 200\n",
      "Sum of all values in the dictionary: 546\n"
     ]
    }
   ],
   "source": [
    "#  b. Create the dictionary with Numeric as Value in Key – Value pair and find the sum of all the values in the Dictionary.\n",
    "\n",
    "pharmacy_dict = {\n",
    "    'paracetamol': 100,\n",
    "    'aspirin': 75,\n",
    "    'ibuprofen': 50,\n",
    "    'antacid': 121,\n",
    "    'antibiotic': 200\n",
    "}\n",
    "\n",
    "total_stock = sum(pharmacy_dict.values())\n",
    "\n",
    "print(\"Pharmacy Dictionary:\")\n",
    "for key, value in pharmacy_dict.items():\n",
    "    print(key, \":\", value)\n",
    "\n",
    "print(\"Sum of all values in the dictionary:\", total_stock)\n"
   ]
  },
  {
   "cell_type": "code",
   "execution_count": 8,
   "metadata": {},
   "outputs": [
    {
     "name": "stdout",
     "output_type": "stream",
     "text": [
      "Sorted pharmacy dictionary in descending order of stock quantities:\n",
      "antibiotic : 200\n",
      "antacid : 120\n",
      "paracetamol : 100\n",
      "aspirin : 75\n",
      "nocold : 50\n"
     ]
    }
   ],
   "source": [
    "# c. Write a Python code to demonstrate the sorting in descending order of values with lambda function.\n",
    "pharmacy_dict = {\n",
    "    'paracetamol': 100,\n",
    "    'aspirin': 75,\n",
    "    'nocold': 50,\n",
    "    'antacid': 120,\n",
    "    'antibiotic': 200\n",
    "}\n",
    "\n",
    "sorted_pharmacy_dict = dict(sorted(pharmacy_dict.items(), key=lambda item: item[1], reverse=True))\n",
    "\n",
    "print(\"Sorted pharmacy dictionary in descending order of stock quantities:\")\n",
    "for medicine, quantity in sorted_pharmacy_dict.items():\n",
    "    print(medicine, \":\", quantity)\n"
   ]
  }
 ],
 "metadata": {
  "kernelspec": {
   "display_name": "Python 3",
   "language": "python",
   "name": "python3"
  },
  "language_info": {
   "codemirror_mode": {
    "name": "ipython",
    "version": 3
   },
   "file_extension": ".py",
   "mimetype": "text/x-python",
   "name": "python",
   "nbconvert_exporter": "python",
   "pygments_lexer": "ipython3",
   "version": "3.11.4"
  },
  "orig_nbformat": 4
 },
 "nbformat": 4,
 "nbformat_minor": 2
}
