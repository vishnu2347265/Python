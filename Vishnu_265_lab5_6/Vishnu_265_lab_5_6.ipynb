{
 "cells": [
  {
   "cell_type": "code",
   "execution_count": 1,
   "metadata": {},
   "outputs": [
    {
     "name": "stdout",
     "output_type": "stream",
     "text": [
      "Divison by zero not allowed \n"
     ]
    }
   ],
   "source": [
    "#Lab Exercise 5\n",
    "#Q1. Write a program to handle the exception of ZeroDivisionError.\n",
    "\n",
    "try:\n",
    "    numerator=int(input(\"Enter the Numerator :\"))\n",
    "    denominator=int(input(\"Enter the Denominator :\"))\n",
    "    result=numerator/denominator\n",
    "    print(\"Result : \",result)\n",
    "except ZeroDivisionError:\n",
    "    print(\"Divison by zero not allowed \")\n",
    "except ValueError:\n",
    "    print(\"Enter a valid Number\")\n",
    "except Exception as e:\n",
    "    print(\"An error occurred\",e)\n",
    "\n"
   ]
  },
  {
   "cell_type": "code",
   "execution_count": 3,
   "metadata": {},
   "outputs": [
    {
     "name": "stdout",
     "output_type": "stream",
     "text": [
      "Error: Index out of range.\n",
      "Index access attempted.\n"
     ]
    }
   ],
   "source": [
    "#Q2. Write a program to handle the exception of IndexError.\n",
    "\n",
    "def index_access_program(my_list, index):\n",
    "    try:\n",
    "        value = my_list[index]\n",
    "        return value\n",
    "    except IndexError:\n",
    "        print(\"Error: Index out of range.\")\n",
    "        return None\n",
    "    finally:\n",
    "        print(\"Index access attempted.\")\n",
    "\n",
    "my_list = [1, 2, 3]\n",
    "index_to_access = 5\n",
    "result = index_access_program(my_list, index_to_access)\n",
    "if result is not None:\n",
    "    print(\"Value at index\", index_to_access, \":\", result)\n"
   ]
  },
  {
   "cell_type": "code",
   "execution_count": 2,
   "metadata": {},
   "outputs": [
    {
     "name": "stdout",
     "output_type": "stream",
     "text": [
      "abc-bcd-vfsr\n",
      "Phone Number not found\n"
     ]
    }
   ],
   "source": [
    "#Lab Exercise 6\n",
    "#Q1. Write a program using the Regular Exception and create a function that accepts a string and searches it for a valid phone number.\n",
    "\n",
    "import re\n",
    "txt=input(\"enter the string\")\n",
    "print(txt)\n",
    "x = re.search(r\"(\\(\\d{3}\\)-\\d{3}-\\d{4}|\\d{3}-\\d{3}-\\d{4})\", txt)\n",
    "if x is not None:\n",
    "    print(\"Phone Number found:\",x.group())\n",
    "else:\n",
    "    print(\"Phone Number not found\")"
   ]
  },
  {
   "cell_type": "code",
   "execution_count": 18,
   "metadata": {},
   "outputs": [
    {
     "name": "stdout",
     "output_type": "stream",
     "text": [
      "Enter a password : \n",
      "Password#1232\n",
      "The entered password is strong\n"
     ]
    }
   ],
   "source": [
    "#Q2. Write a function that employs regular expressions to ensure the password given to the function is strong.\n",
    "\n",
    "import re\n",
    "def password(string):\n",
    "    if len(string)<8:\n",
    "        return False\n",
    "    if not re.search(r'[A-Z]',string):\n",
    "        return False\n",
    "    if not re.search(r'[a-z]',string):\n",
    "        return False\n",
    "    if not re.search(r'\\d',string):\n",
    "        return False\n",
    "    if not re.search(r'[!@#$%^&*()_+{}[\\]:;<>,.?~]',string):\n",
    "        return False\n",
    "    \n",
    "    return True\n",
    "\n",
    "string=input(print(\"Enter a password : \"))\n",
    "\n",
    "print(string)\n",
    "if (password(string))==True:\n",
    "    print(\"The entered password is strong\")\n",
    "else:\n",
    "    print(\"The entered password is weak\")"
   ]
  }
 ],
 "metadata": {
  "kernelspec": {
   "display_name": "Python 3",
   "language": "python",
   "name": "python3"
  },
  "language_info": {
   "codemirror_mode": {
    "name": "ipython",
    "version": 3
   },
   "file_extension": ".py",
   "mimetype": "text/x-python",
   "name": "python",
   "nbconvert_exporter": "python",
   "pygments_lexer": "ipython3",
   "version": "3.11.4"
  },
  "orig_nbformat": 4
 },
 "nbformat": 4,
 "nbformat_minor": 2
}
