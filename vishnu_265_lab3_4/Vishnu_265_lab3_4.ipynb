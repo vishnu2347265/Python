{
 "cells": [
  {
   "cell_type": "code",
   "execution_count": 16,
   "metadata": {},
   "outputs": [
    {
     "name": "stdout",
     "output_type": "stream",
     "text": [
      "{'Name': 'Vishnu Swaroop', 'Domain_name': 'Pharmacy', 'Register_Number': '2347265'}\n"
     ]
    }
   ],
   "source": [
    "#Lab Exercise 3\n",
    "#Write a function in Python with a string such that it accepts a parameter- “stringsplit”. This encoded string will contain your name, domain name and register number. You can separate the values in the string by any number of underscores. [The string should not contain any other underscore symbols in your name, domain name and register number]. The function should return a Python dictionary with your name, domain name and register number.\n",
    "\n",
    "\n",
    "\n",
    "def fun(stringsplit):\n",
    "    string = stringsplit.split('_')\n",
    "    lst = [space.strip() for space in string if space.strip()]\n",
    "\n",
    "    dict = {\n",
    "        \"Name\": lst[0],\n",
    "        \"Domain_name\": lst[1],\n",
    "        \"Register_Number\": lst[2]\n",
    "    }\n",
    "    return dict\n",
    "\n",
    "details=input((\"Enter Your Details in the order of your Name, domain name and register number : \"))\n",
    "result = fun(details)\n",
    "print(result)\n"
   ]
  },
  {
   "cell_type": "code",
   "execution_count": 11,
   "metadata": {},
   "outputs": [
    {
     "name": "stdout",
     "output_type": "stream",
     "text": [
      "Pharmco Pharma - Calicut,Kerala\n",
      "Paracetamol 650: $15\n"
     ]
    }
   ],
   "source": [
    "#Lab Exercise 4\n",
    "#Write a Python program to implement the object-oriented concepts of multiple, Multilevel and Hierarchical Inheritances using your domain applications.\n",
    "\n",
    "#1. Multiple Inheritance:\n",
    "class Medicine:\n",
    "    def __init__(self, name, price):\n",
    "        self.name = name\n",
    "        self.price = price\n",
    "\n",
    "class Inventory:\n",
    "    def __init__(self):\n",
    "        self.medicines = []\n",
    "\n",
    "    def add_medicine(self, medicine):\n",
    "        self.medicines.append(medicine)\n",
    "\n",
    "class Pharmacy(Medicine, Inventory):\n",
    "    def __init__(self, name, address):\n",
    "        Medicine.__init__(self, name, 0)\n",
    "        Inventory.__init__(self)\n",
    "        self.address = address\n",
    "\n",
    "    def set_price(self, medicine_name, price):\n",
    "        for med in self.medicines:\n",
    "            if med.name == medicine_name:\n",
    "                med.price = price\n",
    "                break\n",
    "\n",
    "pharmacy = Pharmacy(\"Pharmco Pharma\", \"Calicut,Kerala\")\n",
    "medicine1 = Medicine(\"Paracetamol 650\", 0)\n",
    "pharmacy.add_medicine(medicine1)\n",
    "pharmacy.set_price(\"Paracetamol 650\",15)\n",
    "\n",
    "print(f\"{pharmacy.name} - {pharmacy.address}\")\n",
    "print(f\"{pharmacy.medicines[0].name}: ${pharmacy.medicines[0].price}\")\n"
   ]
  },
  {
   "cell_type": "code",
   "execution_count": 12,
   "metadata": {},
   "outputs": [
    {
     "name": "stdout",
     "output_type": "stream",
     "text": [
      "Customer: Vishnu Swaroop\n",
      "Medicine: Paracetamol 650 - 200 units\n",
      "Total amount: $3000\n"
     ]
    }
   ],
   "source": [
    "#Multilevel Inheritance:\n",
    "\n",
    "class Medicine:\n",
    "    def __init__(self, name, price):\n",
    "        self.name = name\n",
    "        self.price = price\n",
    "\n",
    "class Order(Medicine):\n",
    "    def __init__(self, name, price, quantity):\n",
    "        super().__init__(name, price)\n",
    "        self.quantity = quantity\n",
    "\n",
    "    def calculate_total(self):\n",
    "        return self.price * self.quantity\n",
    "\n",
    "class Customer(Order):\n",
    "    def __init__(self, name, medicine_name, price, quantity):\n",
    "        super().__init__(medicine_name, price, quantity)\n",
    "        self.customer_name = name\n",
    "\n",
    "    def display_invoice(self):\n",
    "        total = self.calculate_total()\n",
    "        print(f\"Customer: {self.customer_name}\")\n",
    "        print(f\"Medicine: {self.name} - {self.quantity} units\")\n",
    "        print(f\"Total amount: ${total}\")\n",
    "\n",
    "customer_order = Customer(\"Vishnu Swaroop\", \"Paracetamol 650\", 15,200)\n",
    "customer_order.display_invoice()\n"
   ]
  },
  {
   "cell_type": "code",
   "execution_count": 5,
   "metadata": {},
   "outputs": [
    {
     "name": "stdout",
     "output_type": "stream",
     "text": [
      "Medicine: Allopathic medicine\n",
      "Price: $25\n",
      "Doctor: Dr. Smith\n",
      "Medicine: Cetirizine\n",
      "Price: $10\n",
      "Usage: Twice Daily\n"
     ]
    }
   ],
   "source": [
    "#Hierarchical Inheritance:\n",
    "\n",
    "class Medicine:\n",
    "    def __init__(self, name, price):\n",
    "        self.name = name\n",
    "        self.price = price\n",
    "\n",
    "class Prescription(Medicine):\n",
    "    def __init__(self, name, price, doctor_name):\n",
    "        super().__init__(name, price)\n",
    "        self.doctor_name = doctor_name\n",
    "\n",
    "    def display_prescription(self):\n",
    "        print(f\"Medicine: {self.name}\")\n",
    "        print(f\"Price: ${self.price}\")\n",
    "        print(f\"Doctor: {self.doctor_name}\")\n",
    "\n",
    "class Usage(Medicine):\n",
    "    def __init__(self, name, price, usage):\n",
    "        super().__init__(name, price)\n",
    "        self.usage = usage\n",
    "\n",
    "    def display_usage(self):\n",
    "        print(f\"Medicine: {self.name}\")\n",
    "        print(f\"Price: ${self.price}\")\n",
    "        print(f\"Usage: {self.usage}\")\n",
    "\n",
    "prescription_med = Prescription(\"Allopathic medicine\", 25, \"Dr. Smith\")\n",
    "usage_med = Usage(\"Cetirizine\", 10, \"Twice Daily\")\n",
    "\n",
    "prescription_med.display_prescription()\n",
    "usage_med.display_usage()\n"
   ]
  }
 ],
 "metadata": {
  "kernelspec": {
   "display_name": "Python 3",
   "language": "python",
   "name": "python3"
  },
  "language_info": {
   "codemirror_mode": {
    "name": "ipython",
    "version": 3
   },
   "file_extension": ".py",
   "mimetype": "text/x-python",
   "name": "python",
   "nbconvert_exporter": "python",
   "pygments_lexer": "ipython3",
   "version": "3.11.4"
  },
  "orig_nbformat": 4
 },
 "nbformat": 4,
 "nbformat_minor": 2
}
