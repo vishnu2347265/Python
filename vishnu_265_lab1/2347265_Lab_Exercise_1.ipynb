{
 "cells": [
  {
   "cell_type": "markdown",
   "metadata": {},
   "source": [
    "VISHNU SWAROOP P S - 2347265 - MCA B -\n",
    "LAB EXERCISE - 1"
   ]
  },
  {
   "cell_type": "code",
   "execution_count": 11,
   "metadata": {},
   "outputs": [
    {
     "name": "stdout",
     "output_type": "stream",
     "text": [
      "Hello, my name is Vishnu Swaroop P S. I am passionate about the domain of Pharmacy Management System. I am a student with register number 2347265, currently pursuing my studies in the year 2023. My interest in the healthcare sector led me to explore the critical role that effective pharmacy management plays in providing quality pharmaceutical services to patients. In the domain of Pharmacy Management System, I aim to delve into the intricacies of drug inventory management, prescription handling, patient records, and optimizing workflows for efficient drug dispensing. My goal is to contribute to the development of innovative solutions that streamline pharmacy processes and enhance patient safety. With an emphasis on leveraging technology and data-driven approaches, I aspire to make a positive impact on the healthcare industry through the effective management of pharmacies.\n"
     ]
    }
   ],
   "source": [
    "\n",
    "#   Write a paragraph about introducing you and your selected domain (include Full Name, domain name, register number, year …….).\n",
    "name = \"Vishnu Swaroop P S\"\n",
    "domain_name = \"Pharmacy Management System\"\n",
    "register_number = \"2347265\"\n",
    "year = \"2023\"\n",
    "\n",
    "print(f\"Hello, my name is {name}. I am passionate about the domain of {domain_name}. \"\n",
    "      f\"I am a student with register number {register_number}, currently pursuing my studies in the year {year}. \"\n",
    "      f\"My interest in the healthcare sector led me to explore the critical role that effective pharmacy management plays in providing quality pharmaceutical services to patients. \"\n",
    "      f\"In the domain of {domain_name}, I aim to delve into the intricacies of drug inventory management, prescription handling, patient records, and optimizing workflows for efficient drug dispensing. \"\n",
    "      f\"My goal is to contribute to the development of innovative solutions that streamline pharmacy processes and enhance patient safety. \"\n",
    "      f\"With an emphasis on leveraging technology and data-driven approaches, I aspire to make a positive impact on the healthcare industry through the effective management of pharmacies.\")\n"
   ]
  },
  {
   "cell_type": "code",
   "execution_count": null,
   "metadata": {},
   "outputs": [],
   "source": [
    "data='''Onam is an annual Indian harvest festival celebrated predominantly by the Hindus of Kerala. A major annual event for Keralites, \n",
    "it is the official festival of the state and includes a spectrum of cultural events. Onam commemorates King Mahabali and Vamana.'''\n",
    "    "
   ]
  },
  {
   "cell_type": "code",
   "execution_count": 1,
   "metadata": {},
   "outputs": [
    {
     "name": "stdout",
     "output_type": "stream",
     "text": [
      "The word 'domain' appears 2 times in the paragraph.\n"
     ]
    }
   ],
   "source": [
    "#Write a python program to count the frequency of any specific word (in your domain) in the paragraph.\n",
    "\n",
    "def count_word_frequency(paragraph, word):\n",
    "    words = paragraph.lower().split()\n",
    "    return words.count(word.lower())\n",
    "\n",
    "paragraph = \"Hello, my name is Vishnu Swaroop P S. I am passionate about the domain of Pharmacy Management System. \" \\\n",
    "            \"I am a student with register number 2347265, currently pursuing my studies in the year 2023. \" \\\n",
    "            \"My interest in the healthcare sector led me to explore the critical role that effective pharmacy management plays in providing quality pharmaceutical services to patients. \" \\\n",
    "            \"In the domain of Pharmacy Management System, I aim to delve into the intricacies of drug inventory management, prescription handling, patient records, and optimizing workflows for efficient drug dispensing. \" \\\n",
    "            \"My goal is to contribute to the development of innovative solutions that streamline pharmacy processes and enhance patient safety. \" \\\n",
    "            \"With an emphasis on leveraging technology and data-driven approaches, I aspire to make a positive impact on the healthcare industry through the effective management of pharmacies.\"\n",
    "\n",
    "word_to_find = input(\"Enter the word to find its frequency: \")\n",
    "\n",
    "frequency = count_word_frequency(paragraph, word_to_find)\n",
    "print(f\"The word '{word_to_find}' appears {frequency} times in the paragraph.\")\n"
   ]
  },
  {
   "cell_type": "code",
   "execution_count": 13,
   "metadata": {},
   "outputs": [
    {
     "name": "stdout",
     "output_type": "stream",
     "text": [
      "I - string\n",
      "am - string\n",
      "a - string\n",
      "student - string\n",
      "with - string\n",
      "register - string\n",
      "number - string\n",
      "2347265 - int\n",
      ", - string\n",
      "currently - string\n",
      "pursuing - string\n",
      "my - string\n",
      "studies - string\n",
      "in - string\n",
      "the - string\n",
      "year - string\n",
      "2023 - int\n",
      ". - string\n",
      "My - string\n",
      "degree - string\n",
      "percentage - string\n",
      "is - string\n",
      "82.25 - float\n"
     ]
    }
   ],
   "source": [
    "#Write a python program to display all the datatypes of selected specific elements in the paragraph.\n",
    "            \n",
    "def get_element_datatypes(paragraph):\n",
    "    elements = paragraph.split()\n",
    "    element_datatypes = {}\n",
    "\n",
    "    for element in elements:\n",
    "        if element.isdigit():\n",
    "            element_datatypes[element] = \"int\"\n",
    "        elif element.replace('.', '', 1).isdigit():\n",
    "            element_datatypes[element] = \"float\"\n",
    "        else:\n",
    "            element_datatypes[element] = \"string\"\n",
    "\n",
    "    return element_datatypes\n",
    "\n",
    "\n",
    "paragraph = \"I am a student with register number 2347265 , currently pursuing my studies in the year 2023 . My degree percentage is 82.25 .\" \n",
    "\n",
    "element_datatypes = get_element_datatypes(paragraph)\n",
    "for element, datatype in element_datatypes.items():\n",
    "    print(f\"{element} - {datatype}\")\n"
   ]
  },
  {
   "cell_type": "code",
   "execution_count": 2,
   "metadata": {},
   "outputs": [
    {
     "name": "stdout",
     "output_type": "stream",
     "text": [
      "Number of Alphabets: 726\n",
      "Number of Numeric Characters: 11\n",
      "Number of Special Symbols: 147\n"
     ]
    }
   ],
   "source": [
    "#Write a python program to count the number of alphabets, numeric and other special symbols in the paragraph.\n",
    "\n",
    "paragraph = \"Hello, my name is Vishnu Swaroop P S. I am passionate about the domain of Pharmacy Management System. \" \\\n",
    "            \"I am a student with register number 2347265, currently pursuing my studies in the year 2023. \" \\\n",
    "            \"My interest in the healthcare sector led me to explore the critical role that effective pharmacy management plays in providing quality pharmaceutical services to patients. \" \\\n",
    "            \"In the domain of Pharmacy Management System, I aim to delve into the intricacies of drug inventory management, prescription handling, patient records, and optimizing workflows for efficient drug dispensing. \" \\\n",
    "            \"My goal is to contribute to the development of innovative solutions that streamline pharmacy processes and enhance patient safety. \" \\\n",
    "            \"With an emphasis on leveraging technology and data-driven approaches, I aspire to make a positive impact on the healthcare industry through the effective management of pharmacies.\"\n",
    "\n",
    "def count_characters(paragraph):\n",
    "    alphabets = numerics = special_symbols = 0\n",
    "\n",
    "    for char in paragraph:\n",
    "        if char.isalpha():\n",
    "            alphabets += 1\n",
    "        elif char.isdigit():\n",
    "            numerics += 1\n",
    "        else:\n",
    "            special_symbols += 1\n",
    "\n",
    "    return alphabets, numerics, special_symbols\n",
    "\n",
    "alpha_count, numeric_count, special_count = count_characters(paragraph)\n",
    "\n",
    "print(\"Number of Alphabets:\", alpha_count)\n",
    "print(\"Number of Numeric Characters:\", numeric_count)\n",
    "print(\"Number of Special Symbols:\", special_count)\n"
   ]
  },
  {
   "cell_type": "code",
   "execution_count": 1,
   "metadata": {},
   "outputs": [
    {
     "name": "stdout",
     "output_type": "stream",
     "text": [
      "Original Set:  {'Pharmacy', True, 'Patient Records', 3.14, 'Inventory', 25}\n",
      "Popped Element :  Pharmacy\n",
      "Set after pop :  {True, 'Patient Records', 3.14, 'Inventory', 25}\n",
      "Set after discard :  {True, 'Patient Records', 'Inventory', 25}\n",
      "Set after Clear set()\n"
     ]
    },
    {
     "data": {
      "text/plain": [
       "\"\\nInsights:\\n1. pop(): The pop() function is used to remove and return an arbitrary element from the set. As sets are unordered, there's no defined order for elements, and the popped element may not necessarily be the last one that was added.\\n\\n2. clear(): The clear() function is used to remove all elements from the set, resulting in an empty set.\\n\\n3. discard(): The discard() function removes the specified element from the set if it exists. If the element is not present in the set, no error is raised, and the set remains unchanged.\\n\\n4. del: The del statement can be used to delete the entire set, making it no longer accessible. After using del on the set, any further attempts to access it will raise an error, as the set no longer exists.\\n\""
      ]
     },
     "execution_count": 1,
     "metadata": {},
     "output_type": "execute_result"
    }
   ],
   "source": [
    "# Create a Set with elements that consists of various data types (int, float, string, Boolean, etc. from your domain) and perform the functions pop(), clear(), discard() and del. Write the insights as docstring.\n",
    "\n",
    "pharmacy_set = {25, 3.14, \"Pharmacy\", True, \"Inventory\", \"Patient Records\"}\n",
    "print(\"Original Set: \",pharmacy_set)\n",
    "popped_element = pharmacy_set.pop()\n",
    "print(\"Popped Element : \",popped_element)\n",
    "print(\"Set after pop : \",pharmacy_set)\n",
    "pharmacy_set.discard(3.14)\n",
    "print(\"Set after discard : \",pharmacy_set)\n",
    "pharmacy_set.clear()  \n",
    "print(\"Set after Clear\",pharmacy_set)\n",
    "del pharmacy_set \n",
    "\n",
    "\"\"\"\n",
    "Insights:\n",
    "1. pop(): The pop() function is used to remove and return an arbitrary element from the set. As sets are unordered, there's no defined order for elements, and the popped element may not necessarily be the last one that was added.\n",
    "\n",
    "2. clear(): The clear() function is used to remove all elements from the set, resulting in an empty set.\n",
    "\n",
    "3. discard(): The discard() function removes the specified element from the set if it exists. If the element is not present in the set, no error is raised, and the set remains unchanged.\n",
    "\n",
    "4. del: The del statement can be used to delete the entire set, making it no longer accessible. After using del on the set, any further attempts to access it will raise an error, as the set no longer exists.\n",
    "\"\"\"\n"
   ]
  },
  {
   "cell_type": "code",
   "execution_count": 3,
   "metadata": {},
   "outputs": [
    {
     "name": "stdout",
     "output_type": "stream",
     "text": [
      "Original Set {'Patient Records', 'Prescription Processing', 'Pharmacy', 'Inventory Control', 'Inventory', 'Drug Dispensing', 'Medication Management', 'Pharmaceutical Services'}\n",
      "Updated Set (Descending Order): ['Prescription Processing', 'Pharmacy', 'Pharmaceutical Services', 'Patient Records', 'Medication Management', 'Inventory Control', 'Inventory', 'Drug Dispensing']\n"
     ]
    }
   ],
   "source": [
    "#Update the Set with minimum 5 string attributes of your domain and arrange the Set in descending order.\n",
    "\n",
    "pharmacy_set = {\"Pharmacy\",\"Inventory\", \"Patient Records\"}\n",
    "\n",
    "pharmacy_set.update({\"Prescription Processing\", \"Drug Dispensing\", \"Medication Management\", \"Inventory Control\", \"Pharmaceutical Services\"})\n",
    "print(\"Original Set\",pharmacy_set)\n",
    "sorted_set_descending = sorted(pharmacy_set, reverse=True)\n",
    "\n",
    "print(\"Updated Set (Descending Order):\", sorted_set_descending)\n"
   ]
  },
  {
   "cell_type": "code",
   "execution_count": 14,
   "metadata": {},
   "outputs": [
    {
     "name": "stdout",
     "output_type": "stream",
     "text": [
      "Original Tuple: ('Pharmacy', 'Inventory', 'Patient Records', 'Billing', 'Prescriptions')\n",
      "Packed Tuple: ('Pharmacy', 'Inventory', 'Patient Records', 'Billing', 'Prescriptions')\n",
      "Pharmacy\n"
     ]
    }
   ],
   "source": [
    "# Tuple with attributes from the domain \"Pharmacy Management System\"\n",
    "pharmacy_tuple = (\"Pharmacy\", \"Inventory\", \"Patient Records\", \"Billing\", \"Prescriptions\")\n",
    "\n",
    "\n",
    "attribute1, attribute2, attribute3, attribute4, attribute5 = pharmacy_tuple\n",
    "packed_tuple = (attribute1, attribute2, attribute3, attribute4, attribute5)\n",
    "\n",
    "print(\"Original Tuple:\", pharmacy_tuple)\n",
    "print(\"Packed Tuple:\", packed_tuple)\n",
    "print(attribute1)\n"
   ]
  },
  {
   "cell_type": "code",
   "execution_count": 15,
   "metadata": {},
   "outputs": [
    {
     "name": "stdout",
     "output_type": "stream",
     "text": [
      "Count of a is 2\n"
     ]
    }
   ],
   "source": [
    "#Enter your domain name as characters and count any number of characters and print the count (for example – (‘p’,’r’,’o’,’g’,’r’,’a’,’m’) count of ‘r’ = 2)\n",
    "\n",
    "\n",
    "domain_name = (\"p\",\"h\",\"a\",\"r\",\"m\",\"a\",\"c\",\"y\")\n",
    "\n",
    "count = domain_name.count('a')\n",
    "print(\"Count of a is\",count)\n"
   ]
  },
  {
   "cell_type": "code",
   "execution_count": 16,
   "metadata": {},
   "outputs": [
    {
     "name": "stdout",
     "output_type": "stream",
     "text": [
      "Original Domain Name: pharmacy management system\n",
      "Sliced 1: pharmac\n",
      "Sliced 2: management system\n",
      "Sliced 3: pamc aaeetsse\n",
      "Sliced 4 (Reversed): metsys tnemeganam ycamrahp\n",
      "Sliced 5: a ne\n",
      "Negative Index 1: system\n",
      "Negative Index 2: ement \n"
     ]
    }
   ],
   "source": [
    "# Enter your domain name, execute all the slicing possibilities and also negative indexing.\n",
    "\n",
    "domain_name = \"pharmacy management system\"\n",
    "\n",
    "sliced_1 = domain_name[0:7]   \n",
    "sliced_2 = domain_name[9:]    \n",
    "sliced_3 = domain_name[::2]   \n",
    "sliced_4 = domain_name[::-1]  \n",
    "sliced_5 = domain_name[5:16:3] \n",
    "\n",
    "negative_index_1 = domain_name[-6:]   \n",
    "negative_index_2 = domain_name[-12:-6] \n",
    "\n",
    "print(\"Original Domain Name:\", domain_name)\n",
    "print(\"Sliced 1:\", sliced_1)\n",
    "print(\"Sliced 2:\", sliced_2)\n",
    "print(\"Sliced 3:\", sliced_3)\n",
    "print(\"Sliced 4 (Reversed):\", sliced_4)\n",
    "print(\"Sliced 5:\", sliced_5)\n",
    "print(\"Negative Index 1:\", negative_index_1)\n",
    "print(\"Negative Index 2:\", negative_index_2)\n"
   ]
  }
 ],
 "metadata": {
  "kernelspec": {
   "display_name": "Python 3",
   "language": "python",
   "name": "python3"
  },
  "language_info": {
   "codemirror_mode": {
    "name": "ipython",
    "version": 3
   },
   "file_extension": ".py",
   "mimetype": "text/x-python",
   "name": "python",
   "nbconvert_exporter": "python",
   "pygments_lexer": "ipython3",
   "version": "3.11.4"
  },
  "orig_nbformat": 4
 },
 "nbformat": 4,
 "nbformat_minor": 2
}
