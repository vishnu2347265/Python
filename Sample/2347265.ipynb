{
 "cells": [
  {
   "cell_type": "code",
   "execution_count": 5,
   "metadata": {},
   "outputs": [
    {
     "name": "stdout",
     "output_type": "stream",
     "text": [
      "Sequences found:\n",
      "lets_start_the_works\n",
      "nd_of_if\n"
     ]
    }
   ],
   "source": [
    "#write a python program to find sequences of lowercase letters joined by an underscore\n",
    "import re\n",
    "\n",
    "def find_sequences(input_str):\n",
    "    pattern = r'[a-z]+(?:_[a-z]+)*'\n",
    "    sequences = re.findall(pattern, input_str)\n",
    "    return sequences\n",
    "\n",
    "input_str = input(\"Enter a string: \")\n",
    "result = find_sequences(input_str)\n",
    "\n",
    "if result:\n",
    "    print(\"Sequences found:\")\n",
    "    for sequence in result:\n",
    "        print(sequence)\n",
    "else:\n",
    "    print(\"No sequences found.\")\n"
   ]
  },
  {
   "cell_type": "code",
   "execution_count": null,
   "metadata": {},
   "outputs": [],
   "source": [
    "#write a python program to find sequences of one upper case letters followed by lowerecase letters\n"
   ]
  },
  {
   "cell_type": "code",
   "execution_count": 7,
   "metadata": {},
   "outputs": [
    {
     "name": "stdout",
     "output_type": "stream",
     "text": [
      "The word 'o' is not at the beginning of the string.\n"
     ]
    }
   ],
   "source": [
    "#Write a python program that matches a word at the beginning of a string\n",
    "import re\n",
    "\n",
    "word = input(\"Enter the word to match: \")\n",
    "input_str = input(\"Enter a string: \")\n",
    "\n",
    "pattern = r'\\b' + re.escape(word) + r'\\b'\n",
    "match = re.match(pattern, input_str)\n",
    "\n",
    "if match:\n",
    "    print(f\"The word '{word}' is at the beginning of the string.\")\n",
    "else:\n",
    "    print(f\"The word '{word}' is not at the beginning of the string.\")\n"
   ]
  },
  {
   "cell_type": "code",
   "execution_count": null,
   "metadata": {},
   "outputs": [],
   "source": [
    "#Write a python program that matches a word containing 'z' , not the start or end of the word\n",
    "import re\n",
    "\n",
    "def find_words_with_z(input_str):\n",
    "    pattern = r'\\b\\w*z\\w*\\b'\n",
    "    matches = re.findall(pattern, input_str)\n",
    "    return matches\n",
    "\n",
    "input_str = input(\"Enter a string: \")\n",
    "result = find_words_with_z(input_str)\n",
    "\n",
    "if result:\n",
    "    print(\"Words containing 'z' (not at start or end):\")\n",
    "    for word in result:\n",
    "        print(word)\n",
    "else:\n",
    "    print(\"No words containing 'z' (not at start or end) found.\")\n"
   ]
  },
  {
   "cell_type": "code",
   "execution_count": null,
   "metadata": {},
   "outputs": [],
   "source": [
    "#write a python program that starts each string with a specific number\n"
   ]
  }
 ],
 "metadata": {
  "kernelspec": {
   "display_name": "Python 3",
   "language": "python",
   "name": "python3"
  },
  "language_info": {
   "codemirror_mode": {
    "name": "ipython",
    "version": 3
   },
   "file_extension": ".py",
   "mimetype": "text/x-python",
   "name": "python",
   "nbconvert_exporter": "python",
   "pygments_lexer": "ipython3",
   "version": "3.11.4"
  },
  "orig_nbformat": 4
 },
 "nbformat": 4,
 "nbformat_minor": 2
}
