{
 "cells": [
  {
   "cell_type": "code",
   "execution_count": 58,
   "metadata": {},
   "outputs": [
    {
     "name": "stdout",
     "output_type": "stream",
     "text": [
      "{('red',): 2, ('white',): 1}\n"
     ]
    }
   ],
   "source": [
    "def unique_count(lst):\n",
    "    count_dict = {}\n",
    "    \n",
    "    for colors in lst:\n",
    "        colors = tuple(colors)\n",
    "        if colors in count_dict:\n",
    "            count_dict[colors] += 1\n",
    "        else:\n",
    "            count_dict[colors] = 1\n",
    "    \n",
    "    return count_dict\n",
    "\n",
    "\n",
    "\n",
    "\n",
    "List_colors = []\n",
    "num = int(input(\"Enter the number : \"))\n",
    "for _ in range(num):\n",
    "    colors_str = input(\"Enter the colors :\")\n",
    "    colors_list = colors_str.split()\n",
    "    List_colors.append(colors_list)\n",
    "\n",
    "result = unique_count(List_colors)\n",
    "print(result)\n"
   ]
  },
  {
   "cell_type": "code",
   "execution_count": 54,
   "metadata": {},
   "outputs": [
    {
     "name": "stdout",
     "output_type": "stream",
     "text": [
      "\n",
      "Circle Details:\n",
      "Shape: Circle\n",
      "Length: 0\n",
      "Breadth: 0\n",
      "Height: 0\n",
      "Radius: 3\n",
      "Circle Area: 28.274333882308138\n",
      "\n",
      "Cuboid Details:\n",
      "Shape: Cuboid\n",
      "Length: 3\n",
      "Breadth: 4\n",
      "Height: 5\n",
      "Volume: 60\n"
     ]
    }
   ],
   "source": [
    "import math\n",
    "\n",
    "class Shape:\n",
    "    def __init__(self, name, length, breadth, height):\n",
    "        self.name = name\n",
    "        self.length = length\n",
    "        self.breadth = breadth\n",
    "        self.height = height\n",
    "    \n",
    "    def area_circle(self, radius):\n",
    "        return math.pi * radius * radius\n",
    "    \n",
    "    def volume_cuboid(self):\n",
    "        return self.length * self.breadth * self.height\n",
    "    \n",
    "    def Display(self):\n",
    "        print(f\"Shape: {self.name}\")\n",
    "        print(f\"Length: {self.length}\")\n",
    "        print(f\"Breadth: {self.breadth}\")\n",
    "        print(f\"Height: {self.height}\")\n",
    "        \n",
    "class Circle(Shape):\n",
    "    def __init__(self, name, radius):\n",
    "        super().__init__(name, 0, 0, 0)\n",
    "        self.radius = radius\n",
    "    \n",
    "    def calculate_area(self):\n",
    "        return self.area_circle(self.radius)\n",
    "    \n",
    "    def Display(self):\n",
    "        super().Display()\n",
    "        print(\"Radius:\", self.radius)\n",
    "        \n",
    "class Cuboid(Shape):\n",
    "    def __init__(self, name, length, breadth, height):\n",
    "        super().__init__(name, length, breadth, height)\n",
    "    \n",
    "    def calculate_volume(self):\n",
    "        return self.volume_cuboid()\n",
    "    \n",
    "    def Display(self):\n",
    "        super().Display() \n",
    "        print(f\"Volume: {self.calculate_volume()}\")\n",
    "\n",
    "value = int(input(\"Enter the radius: \"))\n",
    "circle = Circle(\"Circle\", value)\n",
    "print(\"\\nCircle Details:\")\n",
    "circle.Display()\n",
    "print(\"Circle Area:\", circle.calculate_area())\n",
    "\n",
    "l = int(input(\"Enter the length: \"))\n",
    "b = int(input(\"Enter the breadth: \"))\n",
    "h = int(input(\"Enter the height: \"))\n",
    "cuboid = Cuboid(\"Cuboid\", l, b, h)\n",
    "print(\"\\nCuboid Details:\")\n",
    "cuboid.Display()\n"
   ]
  }
 ],
 "metadata": {
  "kernelspec": {
   "display_name": "Python 3",
   "language": "python",
   "name": "python3"
  },
  "language_info": {
   "codemirror_mode": {
    "name": "ipython",
    "version": 3
   },
   "file_extension": ".py",
   "mimetype": "text/x-python",
   "name": "python",
   "nbconvert_exporter": "python",
   "pygments_lexer": "ipython3",
   "version": "3.11.4"
  },
  "orig_nbformat": 4
 },
 "nbformat": 4,
 "nbformat_minor": 2
}
