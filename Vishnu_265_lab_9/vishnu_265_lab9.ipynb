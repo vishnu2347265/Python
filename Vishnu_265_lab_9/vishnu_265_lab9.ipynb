{
 "cells": [
  {
   "cell_type": "markdown",
   "metadata": {},
   "source": [
    "Lab Exercise 9"
   ]
  },
  {
   "cell_type": "markdown",
   "metadata": {},
   "source": [
    "Q1. Write a program to distinguish between Array Indexing and Fancy Indexing."
   ]
  },
  {
   "cell_type": "code",
   "execution_count": 40,
   "metadata": {},
   "outputs": [
    {
     "name": "stdout",
     "output_type": "stream",
     "text": [
      "8\n",
      "[ 2  6  8 12]\n"
     ]
    }
   ],
   "source": [
    "import numpy as np\n",
    "\n",
    "arr=np.array([2,4,6,8,10,12])\n",
    "print(arr[3])\n",
    "\n",
    "selected_index = arr[[0,2,3,5]]\n",
    "print(selected_index)"
   ]
  },
  {
   "cell_type": "markdown",
   "metadata": {},
   "source": [
    "Q2. Execute the 2D array Slicing."
   ]
  },
  {
   "cell_type": "code",
   "execution_count": 41,
   "metadata": {},
   "outputs": [
    {
     "name": "stdout",
     "output_type": "stream",
     "text": [
      "Array Elements :\n",
      " [[1 3 5 7]\n",
      " [2 4 6 8]\n",
      " [3 6 9 1]]\n",
      "Slicing a Single element :  5\n",
      "Slicing Second Row :  [2 4 6 8]\n",
      "Slicing a Column :  [3 4 6]\n",
      "Third Row last element :  1\n"
     ]
    }
   ],
   "source": [
    "import numpy as np\n",
    "arr2d = np.array([[1,3,5,7],[2,4,6,8],[3,6,9,1]])\n",
    "print(\"Array Elements :\\n\",arr2d)\n",
    "\n",
    "print(\"Slicing a Single element : \",arr2d[0,2])\n",
    "print(\"Slicing Second Row : \",arr2d[1])\n",
    "print(\"Slicing a Column : \",arr2d[:,1])\n",
    "print(\"Third Row last element : \",arr2d[2,-1])\n",
    "\n"
   ]
  },
  {
   "cell_type": "markdown",
   "metadata": {},
   "source": [
    "Q3. Create the 5-Dimensional arrays using ‘ndmin’."
   ]
  },
  {
   "cell_type": "code",
   "execution_count": 42,
   "metadata": {},
   "outputs": [
    {
     "name": "stdout",
     "output_type": "stream",
     "text": [
      "[[[[[10 20 30 40 50]]]]]\n",
      "Number of dimensions: 5\n"
     ]
    }
   ],
   "source": [
    "import numpy as np\n",
    "arr = np.array([10,20,30,40,50], ndmin=5)\n",
    "\n",
    "print(arr)\n",
    "print('Number of dimensions:', arr.ndim)"
   ]
  },
  {
   "cell_type": "markdown",
   "metadata": {},
   "source": [
    "Q4. Reshape the array from 1-D to 2-D array."
   ]
  },
  {
   "cell_type": "code",
   "execution_count": 43,
   "metadata": {},
   "outputs": [
    {
     "name": "stdout",
     "output_type": "stream",
     "text": [
      "1D array :  [ 1  3  5  7  8 10]\n",
      "2D array : \n",
      " [[ 1  3  5]\n",
      " [ 7  8 10]]\n"
     ]
    }
   ],
   "source": [
    "import numpy as np\n",
    "arr=np.array([1,3,5,7,8,10])\n",
    "print(\"1D array : \",arr)\n",
    "new_arr = arr.reshape(2,3)\n",
    "print(\"2D array : \\n\",new_arr)"
   ]
  },
  {
   "cell_type": "markdown",
   "metadata": {},
   "source": [
    "Q5. Perform the Stack functions in Numpy arrays – Stack(), hstack(), vstack(), and dstack()."
   ]
  },
  {
   "cell_type": "code",
   "execution_count": 44,
   "metadata": {},
   "outputs": [
    {
     "name": "stdout",
     "output_type": "stream",
     "text": [
      "Original arrays:\n",
      " [[10 20]\n",
      " [30 40]] \n",
      " [[50 60]\n",
      " [70 80]]\n",
      "Stacked array:\n",
      " [[[10 20]\n",
      "  [30 40]]\n",
      "\n",
      " [[50 60]\n",
      "  [70 80]]]\n",
      "Horizontally stacked array:\n",
      " [[10 20 50 60]\n",
      " [30 40 70 80]]\n",
      "Vertically stacked array:\n",
      " [[10 20]\n",
      " [30 40]\n",
      " [50 60]\n",
      " [70 80]]\n",
      "Depth-wise stacked array:\n",
      " [[[10 50]\n",
      "  [20 60]]\n",
      "\n",
      " [[30 70]\n",
      "  [40 80]]]\n"
     ]
    }
   ],
   "source": [
    "import numpy as np\n",
    "\n",
    "arr1 = np.array([[10, 20], [30, 40]])\n",
    "arr2 = np.array([[50, 60], [70, 80]])\n",
    "\n",
    "stacked_arr = np.stack((arr1, arr2), axis=0)\n",
    "hstacked_arr = np.hstack((arr1, arr2))\n",
    "vstacked_arr = np.vstack((arr1, arr2))\n",
    "dstacked_arr = np.dstack((arr1, arr2))\n",
    "\n",
    "print('Original arrays:\\n', arr1, '\\n', arr2)\n",
    "print('Stacked array:\\n', stacked_arr)\n",
    "print('Horizontally stacked array:\\n', hstacked_arr)\n",
    "print('Vertically stacked array:\\n', vstacked_arr)\n",
    "print('Depth-wise stacked array:\\n', dstacked_arr)"
   ]
  },
  {
   "cell_type": "markdown",
   "metadata": {},
   "source": [
    "Q6. Perform the searchsort method in Numpy array."
   ]
  },
  {
   "cell_type": "code",
   "execution_count": 45,
   "metadata": {},
   "outputs": [
    {
     "name": "stdout",
     "output_type": "stream",
     "text": [
      "[ 23  45  76  85  92 103]\n",
      "Value 56 should be inserted at index 2.\n"
     ]
    }
   ],
   "source": [
    "import numpy as np\n",
    "\n",
    "arr = np.array([45,85,23,92,103,76])\n",
    "arr = np.sort(arr)\n",
    "num = 56\n",
    "\n",
    "index = np.searchsorted(arr, num)\n",
    "print(arr)\n",
    "print(f\"Value {num} should be inserted at index {index}.\")\n"
   ]
  },
  {
   "cell_type": "markdown",
   "metadata": {},
   "source": [
    "Q7. Create Numpy Structured array using your domain features."
   ]
  },
  {
   "cell_type": "code",
   "execution_count": 46,
   "metadata": {},
   "outputs": [
    {
     "name": "stdout",
     "output_type": "stream",
     "text": [
      "[(1, 'Aspirin', 'Bayer', 100, 0.5, '2023-12-31')\n",
      " (2, 'Ibuprofen', 'Generic',  50, 0.3, '2024-06-30')\n",
      " (3, 'Amoxicillin', 'Pfizer',  75, 1.2, '2023-11-15')\n",
      " (4, 'Lisinopril', 'Novartis',  30, 0.8, '2024-04-20')]\n"
     ]
    }
   ],
   "source": [
    "import numpy as np\n",
    "\n",
    "dtype = [\n",
    "    ('medication_id', 'int32'),\n",
    "    ('name', 'U50'),           # Unicode string with up to 50 characters\n",
    "    ('manufacturer', 'U50'),\n",
    "    ('quantity', 'int32'),\n",
    "    ('unit_price', 'float64'),\n",
    "    ('expiration_date', 'datetime64[D]')  \n",
    "]\n",
    "\n",
    "medication_data = np.array([\n",
    "    (1, 'Aspirin', 'Bayer', 100, 0.5, '2023-12-31'),\n",
    "    (2, 'Ibuprofen', 'Generic', 50, 0.3, '2024-06-30'),\n",
    "    (3, 'Amoxicillin', 'Pfizer', 75, 1.2, '2023-11-15'),\n",
    "    (4, 'Lisinopril', 'Novartis', 30, 0.8, '2024-04-20')\n",
    "], dtype=dtype)\n",
    "\n",
    "print(medication_data)\n"
   ]
  },
  {
   "cell_type": "markdown",
   "metadata": {},
   "source": [
    "Q8. Create Data frame using List and Dictionary."
   ]
  },
  {
   "cell_type": "code",
   "execution_count": 47,
   "metadata": {},
   "outputs": [
    {
     "name": "stdout",
     "output_type": "stream",
     "text": [
      "   medication_id         name manufacturer  quantity expiration_date\n",
      "0              1      Aspirin        Bayer       100      2023-12-31\n",
      "1              2    Ibuprofen      Generic        50      2024-06-30\n",
      "2              3  Amoxicillin       Pfizer        75      2023-11-15\n",
      "3              4   Lisinopril     Novartis        30      2024-04-20\n"
     ]
    }
   ],
   "source": [
    "import pandas as pd\n",
    "\n",
    "medication_data = [\n",
    "    {'medication_id': 1, 'name': 'Aspirin', 'manufacturer': 'Bayer', 'quantity': 100, 'expiration_date': '2023-12-31'},\n",
    "    {'medication_id': 2, 'name': 'Ibuprofen', 'manufacturer': 'Generic', 'quantity': 50,  'expiration_date': '2024-06-30'},\n",
    "    {'medication_id': 3, 'name': 'Amoxicillin', 'manufacturer': 'Pfizer', 'quantity': 75,  'expiration_date': '2023-11-15'},\n",
    "    {'medication_id': 4, 'name': 'Lisinopril', 'manufacturer': 'Novartis', 'quantity': 30, 'expiration_date': '2024-04-20'}\n",
    "]\n",
    "\n",
    "df = pd.DataFrame(medication_data)\n",
    "\n",
    "print(df)\n"
   ]
  },
  {
   "cell_type": "markdown",
   "metadata": {},
   "source": [
    "Q9. Create Data frame on your Domain area and perform the following operations to find and eliminate the\n",
    "missing data from the dataset.\n",
    "• isnull()\n",
    "• notnull()\n",
    "• dropna()\n",
    "• fillna()\n",
    "• replace()\n",
    "• interpolate()"
   ]
  },
  {
   "cell_type": "code",
   "execution_count": 48,
   "metadata": {},
   "outputs": [
    {
     "name": "stdout",
     "output_type": "stream",
     "text": [
      "Missing Data:\n",
      "   medication_id   name  quantity  unit_price  expiration_date\n",
      "0          False  False     False       False            False\n",
      "1          False  False      True       False            False\n",
      "2          False  False     False        True             True\n",
      "3          False  False     False       False            False\n",
      "4          False  False      True       False            False\n",
      "\n",
      "Non-Missing Data:\n",
      "   medication_id  name  quantity  unit_price  expiration_date\n",
      "0           True  True      True        True             True\n",
      "1           True  True     False        True             True\n",
      "2           True  True      True       False            False\n",
      "3           True  True      True        True             True\n",
      "4           True  True     False        True             True\n",
      "\n",
      "DataFrame after dropping rows with missing values:\n",
      "   medication_id        name  quantity  unit_price expiration_date\n",
      "0              1     Aspirin     100.0         0.5      2023-12-31\n",
      "3              4  Lisinopril      30.0         0.8      2024-04-20\n",
      "\n",
      "DataFrame after filling missing quantity values:\n",
      "   medication_id         name    quantity  unit_price expiration_date\n",
      "0              1      Aspirin  100.000000         0.5      2023-12-31\n",
      "1              2    Ibuprofen   68.333333         0.3      2024-06-30\n",
      "2              3  Amoxicillin   75.000000         NaN            None\n",
      "3              4   Lisinopril   30.000000         0.8      2024-04-20\n",
      "4              5  Paracetamol   68.333333         1.0      2023-09-30\n",
      "\n",
      "DataFrame after replacing 'Paracetamol' with 'Acetaminophen':\n",
      "   medication_id           name  quantity  unit_price expiration_date\n",
      "0              1        Aspirin     100.0         0.5      2023-12-31\n",
      "1              2      Ibuprofen       NaN         0.3      2024-06-30\n",
      "2              3    Amoxicillin      75.0         NaN            None\n",
      "3              4     Lisinopril      30.0         0.8      2024-04-20\n",
      "4              5  Acetaminophen       NaN         1.0      2023-09-30\n",
      "\n",
      "DataFrame after linear interpolation for missing unit_price values:\n",
      "   medication_id         name  quantity  unit_price expiration_date\n",
      "0              1      Aspirin     100.0        0.50      2023-12-31\n",
      "1              2    Ibuprofen      87.5        0.30      2024-06-30\n",
      "2              3  Amoxicillin      75.0        0.55            None\n",
      "3              4   Lisinopril      30.0        0.80      2024-04-20\n",
      "4              5  Paracetamol      30.0        1.00      2023-09-30\n"
     ]
    },
    {
     "name": "stderr",
     "output_type": "stream",
     "text": [
      "C:\\Users\\91702\\AppData\\Local\\Temp\\ipykernel_18380\\3099072653.py:35: FutureWarning: DataFrame.interpolate with object dtype is deprecated and will raise in a future version. Call obj.infer_objects(copy=False) before interpolating instead.\n",
      "  df_interpolated = df.interpolate()\n"
     ]
    }
   ],
   "source": [
    "import pandas as pd\n",
    "import numpy as np\n",
    "\n",
    "data = {\n",
    "    'medication_id': [1, 2, 3, 4, 5],\n",
    "    'name': ['Aspirin', 'Ibuprofen', 'Amoxicillin', 'Lisinopril', 'Paracetamol'],\n",
    "    'quantity': [100, np.nan, 75, 30, np.nan],\n",
    "    'unit_price': [0.5, 0.3, np.nan, 0.8, 1.0],\n",
    "    'expiration_date': ['2023-12-31', '2024-06-30', None, '2024-04-20', '2023-09-30']\n",
    "}\n",
    "\n",
    "df = pd.DataFrame(data)\n",
    "\n",
    "missing_data = df.isnull()\n",
    "print(\"Missing Data:\")\n",
    "print(missing_data)\n",
    "\n",
    "non_missing_data = df.notnull()\n",
    "print(\"\\nNon-Missing Data:\")\n",
    "print(non_missing_data)\n",
    "\n",
    "df_dropped = df.dropna()\n",
    "print(\"\\nDataFrame after dropping rows with missing values:\")\n",
    "print(df_dropped)\n",
    "\n",
    "mean_quantity = df['quantity'].mean()\n",
    "df_filled = df.fillna({'quantity': mean_quantity})\n",
    "print(\"\\nDataFrame after filling missing quantity values:\")\n",
    "print(df_filled)\n",
    "\n",
    "df_replaced = df.replace({'name': {'Paracetamol': 'Acetaminophen'}})\n",
    "print(\"\\nDataFrame after replacing 'Paracetamol' with 'Acetaminophen':\")\n",
    "print(df_replaced)\n",
    "\n",
    "df_interpolated = df.interpolate()\n",
    "print(\"\\nDataFrame after linear interpolation for missing unit_price values:\")\n",
    "print(df_interpolated)\n"
   ]
  },
  {
   "cell_type": "markdown",
   "metadata": {},
   "source": []
  },
  {
   "cell_type": "markdown",
   "metadata": {},
   "source": [
    "Q10. Perform the Hierarchical Indexing in the above created dataset."
   ]
  },
  {
   "cell_type": "code",
   "execution_count": 49,
   "metadata": {},
   "outputs": [
    {
     "name": "stdout",
     "output_type": "stream",
     "text": [
      "                           quantity  unit_price expiration_date\n",
      "medication_id name                                             \n",
      "1             Aspirin         100.0         0.5      2023-12-31\n",
      "2             Ibuprofen         NaN         0.3      2024-06-30\n",
      "3             Amoxicillin      75.0         NaN            None\n",
      "4             Lisinopril       30.0         0.8      2024-04-20\n",
      "5             Paracetamol       NaN         1.0      2023-09-30\n"
     ]
    }
   ],
   "source": [
    "\n",
    "df['quantity'] = df['quantity'].astype(float)\n",
    "df['unit_price'] = df['unit_price'].astype(float)\n",
    "\n",
    "df.set_index(['medication_id', 'name'], inplace=True)\n",
    "\n",
    "print(df)"
   ]
  }
 ],
 "metadata": {
  "kernelspec": {
   "display_name": "Python 3",
   "language": "python",
   "name": "python3"
  },
  "language_info": {
   "codemirror_mode": {
    "name": "ipython",
    "version": 3
   },
   "file_extension": ".py",
   "mimetype": "text/x-python",
   "name": "python",
   "nbconvert_exporter": "python",
   "pygments_lexer": "ipython3",
   "version": "3.11.4"
  },
  "orig_nbformat": 4
 },
 "nbformat": 4,
 "nbformat_minor": 2
}
