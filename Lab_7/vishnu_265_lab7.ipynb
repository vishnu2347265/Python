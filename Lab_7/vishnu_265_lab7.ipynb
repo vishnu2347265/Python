{
 "cells": [
  {
   "cell_type": "code",
   "execution_count": 16,
   "metadata": {},
   "outputs": [
    {
     "name": "stdout",
     "output_type": "stream",
     "text": [
      "Matrix 1:\n",
      "[[2 2 5]\n",
      " [2 6 6]\n",
      " [5 2 1]]\n",
      "\n",
      "Matrix 2:\n",
      "[[4 0 0]\n",
      " [7 1 0]\n",
      " [6 0 1]]\n",
      "\n",
      "Product of Matrix 1:\n",
      "14400\n",
      "\n",
      "Element-wise Multiplication:\n",
      "[[ 8  0  0]\n",
      " [14  6  0]\n",
      " [30  0  1]]\n",
      "\n",
      "Dot Product:\n",
      "[[52  2  5]\n",
      " [86  6  6]\n",
      " [40  2  1]]\n"
     ]
    }
   ],
   "source": [
    "#Create two 3×3 matrices using the random function in Numpy and perform the following operations.\n",
    "#è Dot Product (dot)\n",
    "#è Product (prod)\n",
    "#è Multiplication (multiply)\n",
    "\n",
    "\n",
    "import numpy as np\n",
    "\n",
    "# Create two 3x3 random matrices\n",
    "matrix1 = np.random.randint(10,size=(3,3))\n",
    "matrix2 = np.random.randint(10, size=(3,3))\n",
    "\n",
    "# Display the matrices\n",
    "print(\"Matrix 1:\")\n",
    "print(matrix1)\n",
    "print(\"\\nMatrix 2:\")\n",
    "print(matrix2)\n",
    "\n",
    "# Perform the operations\n",
    "\n",
    "# 1. Product (prod)\n",
    "product_result = np.prod(matrix1)\n",
    "print(\"\\nProduct of Matrix 1:\")\n",
    "print(product_result)\n",
    "\n",
    "# 2. Element-wise Multiplication (multiply)\n",
    "multiply_result = np.multiply(matrix1, matrix2)\n",
    "print(\"\\nElement-wise Multiplication:\")\n",
    "print(multiply_result)\n",
    "\n",
    "# 3. Dot Product (dot)\n",
    "dot_product_result = np.dot(matrix1, matrix2)\n",
    "print(\"\\nDot Product:\")\n",
    "print(dot_product_result)\n"
   ]
  },
  {
   "cell_type": "code",
   "execution_count": 9,
   "metadata": {},
   "outputs": [
    {
     "name": "stdout",
     "output_type": "stream",
     "text": [
      "Union:\n",
      "[1 2 3 4 5 6 7]\n",
      "\n",
      "Intersection:\n",
      "[3 4 5]\n",
      "\n",
      "Set Difference (set1 - set2):\n",
      "[1 2]\n",
      "\n",
      "XOR (Exclusive OR):\n",
      "[1 2 6 7]\n"
     ]
    }
   ],
   "source": [
    "#Perform the following set operations using the Numpy functions.\n",
    "# Union\n",
    "# Intersection\n",
    "# Set difference\n",
    "# XOR\n",
    "\n",
    "import numpy as np\n",
    "\n",
    "# Create two NumPy arrays as sets\n",
    "set1 = np.array([1, 2, 3, 4, 5])\n",
    "set2 = np.array([3, 4, 5, 6, 7])\n",
    "\n",
    "# Perform set operations\n",
    "\n",
    "# Union\n",
    "union_result = np.union1d(set1, set2)\n",
    "print(\"Union:\")\n",
    "print(union_result)\n",
    "\n",
    "# Intersection\n",
    "intersection_result = np.intersect1d(set1, set2)\n",
    "print(\"\\nIntersection:\")\n",
    "print(intersection_result)\n",
    "\n",
    "# Set Difference\n",
    "set_difference_result = np.setdiff1d(set1, set2)\n",
    "print(\"\\nSet Difference (set1 - set2):\")\n",
    "print(set_difference_result)\n",
    "\n",
    "# XOR (Exclusive OR)\n",
    "xor_result = np.setxor1d(set1, set2)\n",
    "print(\"\\nXOR (Exclusive OR):\")\n",
    "print(xor_result)\n"
   ]
  },
  {
   "cell_type": "code",
   "execution_count": 7,
   "metadata": {},
   "outputs": [
    {
     "name": "stdout",
     "output_type": "stream",
     "text": [
      "Original Array:\n",
      "[3 5 1 0 5 7]\n",
      "\n",
      "Cumulative Sum:\n",
      "[ 3  8  9  9 14 21]\n",
      "\n",
      "Cumulative Product:\n",
      "[ 3 15 15  0  0  0]\n",
      "\n",
      "Discrete Difference (n=3):\n",
      "[ 9  3 -9]\n",
      "\n",
      "Unique Elements:\n",
      "[0 1 3 5 7]\n"
     ]
    }
   ],
   "source": [
    "#. Create a 1D array using Random function and perform the following operations.\n",
    "# Cumulative sum\n",
    "# Cumulative Product\n",
    "# Discrete difference (with n=3)\n",
    "# Find the unique elements from the array\n",
    "\n",
    "import numpy as np\n",
    "\n",
    "array = np.random.randint(10,size=6)\n",
    "\n",
    "print(\"Original Array:\")\n",
    "print(array)\n",
    "\n",
    "cumulative_sum = np.cumsum(array)\n",
    "\n",
    "cumulative_product = np.cumprod(array)\n",
    "\n",
    "discrete_difference = np.diff(array, n=3)\n",
    "\n",
    "unique_elements = np.unique(array)\n",
    "print(\"\\nCumulative Sum:\")\n",
    "print(cumulative_sum)\n",
    "\n",
    "print(\"\\nCumulative Product:\")\n",
    "print(cumulative_product)\n",
    "\n",
    "print(\"\\nDiscrete Difference (n=3):\")\n",
    "print(discrete_difference)\n",
    "\n",
    "print(\"\\nUnique Elements:\")\n",
    "print(unique_elements)"
   ]
  },
  {
   "cell_type": "code",
   "execution_count": 10,
   "metadata": {},
   "outputs": [
    {
     "name": "stdout",
     "output_type": "stream",
     "text": [
      "Using zip(): [11, 22, 33, 44, 55]\n",
      "Using numpy.add(): [11 22 33 44 55]\n",
      "Using numpy.frompyfunc(): [11 22 33 44 55]\n"
     ]
    }
   ],
   "source": [
    "# Create two 1D array and perform the Addition using zip(), add() \n",
    "# and user defined function (frompyfunc())\n",
    "\n",
    "import numpy as np\n",
    "\n",
    "# Step 2: Create two 1D arrays\n",
    "array1 = np.array([1, 2, 3, 4, 5])\n",
    "array2 = np.array([10, 20, 30, 40, 50])\n",
    "\n",
    "# Step 3: Perform addition using zip()\n",
    "result_zip = [a + b for a, b in zip(array1, array2)]\n",
    "\n",
    "# Step 4: Perform addition using numpy.add()\n",
    "result_np_add = np.add(array1, array2)\n",
    "\n",
    "# Step 5: Perform addition using numpy.frompyfunc()\n",
    "def add_elements(a, b):\n",
    "    return a + b\n",
    "\n",
    "add_func = np.frompyfunc(add_elements, 2, 1)\n",
    "result_frompyfunc = add_func(array1, array2)\n",
    "\n",
    "# Display the results\n",
    "print(\"Using zip():\", result_zip)\n",
    "print(\"Using numpy.add():\", result_np_add)\n",
    "print(\"Using numpy.frompyfunc():\", result_frompyfunc)\n"
   ]
  },
  {
   "cell_type": "code",
   "execution_count": 11,
   "metadata": {},
   "outputs": [
    {
     "name": "stdout",
     "output_type": "stream",
     "text": [
      "Elements: [12, 18, 24, 36]\n",
      "LCM: 72\n",
      "GCD: 6\n"
     ]
    }
   ],
   "source": [
    "#Find the LCM (Least Common Multiple) and GCD (Greatest Common Divisor)\n",
    "# of an array of elements using reduce().\n",
    "\n",
    "\n",
    "from functools import reduce\n",
    "import math\n",
    "\n",
    "elements = [12, 18, 24, 36]\n",
    "\n",
    "def calculate_lcm(x, y):\n",
    "    return x * y // math.gcd(x, y)\n",
    "\n",
    "lcm_result = reduce(calculate_lcm, elements)\n",
    "\n",
    "gcd_result = reduce(math.gcd, elements)\n",
    "\n",
    "print(\"Elements:\", elements)\n",
    "print(\"LCM:\", lcm_result)\n",
    "print(\"GCD:\", gcd_result)"
   ]
  }
 ],
 "metadata": {
  "kernelspec": {
   "display_name": "Python 3",
   "language": "python",
   "name": "python3"
  },
  "language_info": {
   "codemirror_mode": {
    "name": "ipython",
    "version": 3
   },
   "file_extension": ".py",
   "mimetype": "text/x-python",
   "name": "python",
   "nbconvert_exporter": "python",
   "pygments_lexer": "ipython3",
   "version": "3.11.4"
  },
  "orig_nbformat": 4
 },
 "nbformat": 4,
 "nbformat_minor": 2
}
