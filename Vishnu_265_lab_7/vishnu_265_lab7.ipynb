{
 "cells": [
  {
   "cell_type": "code",
   "execution_count": 3,
   "metadata": {},
   "outputs": [
    {
     "name": "stdout",
     "output_type": "stream",
     "text": [
      "Matrix 1:\n",
      "[[6 7 5]\n",
      " [3 4 3]\n",
      " [7 3 6]]\n",
      "\n",
      "Matrix 2:\n",
      "[[6 4 8]\n",
      " [2 8 2]\n",
      " [6 3 1]]\n",
      "\n",
      "Product of Matrix 1:\n",
      "952560\n",
      "\n",
      "Element-wise Multiplication:\n",
      "[[36 28 40]\n",
      " [ 6 32  6]\n",
      " [42  9  6]]\n",
      "\n",
      "Dot Product:\n",
      "[[80 95 67]\n",
      " [44 53 35]\n",
      " [84 70 68]]\n"
     ]
    }
   ],
   "source": [
    "#Create two 3×3 matrices using the random function in Numpy and perform the following operations.\n",
    "#è Dot Product (dot)\n",
    "#è Product (prod)\n",
    "#è Multiplication (multiply) \n",
    "\n",
    "\n",
    "import numpy as np\n",
    "\n",
    "matrix1 = np.random.randint(10,size=(3,3))\n",
    "matrix2 = np.random.randint(10, size=(3,3))\n",
    "\n",
    "print(\"Matrix 1:\")\n",
    "print(matrix1)\n",
    "print(\"\\nMatrix 2:\")\n",
    "print(matrix2)\n",
    "\n",
    "product_result = np.prod(matrix1)\n",
    "print(\"\\nProduct of Matrix 1:\")\n",
    "print(product_result)\n",
    "\n",
    "multiply_result = np.multiply(matrix1, matrix2)\n",
    "print(\"\\nElement-wise Multiplication:\")\n",
    "print(multiply_result)\n",
    "\n",
    "dot_product_result = np.dot(matrix1, matrix2)\n",
    "print(\"\\nDot Product:\")\n",
    "print(dot_product_result)\n"
   ]
  },
  {
   "cell_type": "code",
   "execution_count": 9,
   "metadata": {},
   "outputs": [
    {
     "name": "stdout",
     "output_type": "stream",
     "text": [
      "Union:\n",
      "[1 2 3 4 5 6 7]\n",
      "\n",
      "Intersection:\n",
      "[3 4 5]\n",
      "\n",
      "Set Difference (set1 - set2):\n",
      "[1 2]\n",
      "\n",
      "XOR (Exclusive OR):\n",
      "[1 2 6 7]\n"
     ]
    }
   ],
   "source": [
    "#Perform the following set operations using the Numpy functions.\n",
    "# Union\n",
    "# Intersection\n",
    "# Set difference\n",
    "# XOR\n",
    "\n",
    "import numpy as np\n",
    "\n",
    "set1 = np.array([1, 2, 3, 4, 5])\n",
    "set2 = np.array([3, 4, 5, 6, 7])\n",
    "\n",
    "\n",
    "union_result = np.union1d(set1, set2)\n",
    "print(\"Union:\")\n",
    "print(union_result)\n",
    "\n",
    "intersection_result = np.intersect1d(set1, set2)\n",
    "print(\"\\nIntersection:\")\n",
    "print(intersection_result)\n",
    "\n",
    "set_difference_result = np.setdiff1d(set1, set2)\n",
    "print(\"\\nSet Difference (set1 - set2):\")\n",
    "print(set_difference_result)\n",
    "\n",
    "xor_result = np.setxor1d(set1, set2)\n",
    "print(\"\\nXOR (Exclusive OR):\")\n",
    "print(xor_result)\n"
   ]
  },
  {
   "cell_type": "code",
   "execution_count": 7,
   "metadata": {},
   "outputs": [
    {
     "name": "stdout",
     "output_type": "stream",
     "text": [
      "Original Array:\n",
      "[3 5 1 0 5 7]\n",
      "\n",
      "Cumulative Sum:\n",
      "[ 3  8  9  9 14 21]\n",
      "\n",
      "Cumulative Product:\n",
      "[ 3 15 15  0  0  0]\n",
      "\n",
      "Discrete Difference (n=3):\n",
      "[ 9  3 -9]\n",
      "\n",
      "Unique Elements:\n",
      "[0 1 3 5 7]\n"
     ]
    }
   ],
   "source": [
    "#. Create a 1D array using Random function and perform the following operations.\n",
    "# Cumulative sum\n",
    "# Cumulative Product\n",
    "# Discrete difference (with n=3)\n",
    "# Find the unique elements from the array\n",
    "\n",
    "import numpy as np\n",
    "\n",
    "array = np.random.randint(10,size=6)\n",
    "\n",
    "print(\"Original Array:\")\n",
    "print(array)\n",
    "\n",
    "cumulative_sum = np.cumsum(array)\n",
    "\n",
    "cumulative_product = np.cumprod(array)\n",
    "\n",
    "discrete_difference = np.diff(array, n=3)\n",
    "\n",
    "unique_elements = np.unique(array)\n",
    "print(\"\\nCumulative Sum:\")\n",
    "print(cumulative_sum)\n",
    "\n",
    "print(\"\\nCumulative Product:\")\n",
    "print(cumulative_product)\n",
    "\n",
    "print(\"\\nDiscrete Difference (n=3):\")\n",
    "print(discrete_difference)\n",
    "\n",
    "print(\"\\nUnique Elements:\")\n",
    "print(unique_elements)"
   ]
  },
  {
   "cell_type": "code",
   "execution_count": 4,
   "metadata": {},
   "outputs": [
    {
     "name": "stdout",
     "output_type": "stream",
     "text": [
      "Using zip(): [11, 22, 33, 44, 55]\n",
      "Using numpy.add(): [11 22 33 44 55]\n",
      "Using numpy.frompyfunc(): [11 22 33 44 55]\n"
     ]
    }
   ],
   "source": [
    "# Create two 1D array and perform the Addition using zip(), add() \n",
    "# and user defined function (frompyfunc())\n",
    "\n",
    "import numpy as np\n",
    "\n",
    "array1 = np.array([1, 2, 3, 4, 5])\n",
    "array2 = np.array([10, 20, 30, 40, 50])\n",
    "\n",
    "result_zip = [a + b for a, b in zip(array1, array2)]\n",
    "\n",
    "result_np_add = np.add(array1, array2)\n",
    "\n",
    "def add_elements(a, b):\n",
    "    return a + b\n",
    "\n",
    "add_func = np.frompyfunc(add_elements, 2, 1)\n",
    "result = add_func(array1, array2)\n",
    "\n",
    "print(\"Using zip():\", result_zip)\n",
    "print(\"Using numpy.add():\", result_np_add)\n",
    "print(\"Using numpy.frompyfunc():\", result)\n"
   ]
  },
  {
   "cell_type": "code",
   "execution_count": 11,
   "metadata": {},
   "outputs": [
    {
     "name": "stdout",
     "output_type": "stream",
     "text": [
      "Elements: [12, 18, 24, 36]\n",
      "LCM: 72\n",
      "GCD: 6\n"
     ]
    }
   ],
   "source": [
    "#Find the LCM (Least Common Multiple) and GCD (Greatest Common Divisor)\n",
    "# of an array of elements using reduce().\n",
    "\n",
    "\n",
    "from functools import reduce\n",
    "import math\n",
    "\n",
    "elements = [12, 18, 24, 36]\n",
    "\n",
    "def calculate_lcm(x, y):\n",
    "    return x * y // math.gcd(x, y)\n",
    "\n",
    "lcm_result = reduce(calculate_lcm, elements)\n",
    "\n",
    "gcd_result = reduce(math.gcd, elements)\n",
    "\n",
    "print(\"Elements:\", elements)\n",
    "print(\"LCM:\", lcm_result)\n",
    "print(\"GCD:\", gcd_result)"
   ]
  }
 ],
 "metadata": {
  "kernelspec": {
   "display_name": "Python 3",
   "language": "python",
   "name": "python3"
  },
  "language_info": {
   "codemirror_mode": {
    "name": "ipython",
    "version": 3
   },
   "file_extension": ".py",
   "mimetype": "text/x-python",
   "name": "python",
   "nbconvert_exporter": "python",
   "pygments_lexer": "ipython3",
   "version": "3.11.4"
  },
  "orig_nbformat": 4
 },
 "nbformat": 4,
 "nbformat_minor": 2
}
