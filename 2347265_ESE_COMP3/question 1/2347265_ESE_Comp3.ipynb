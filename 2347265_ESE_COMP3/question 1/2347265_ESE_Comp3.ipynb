{
 "cells": [
  {
   "cell_type": "markdown",
   "metadata": {},
   "source": [
    "1. Import the given \"UScereal\" dataset."
   ]
  },
  {
   "cell_type": "code",
   "execution_count": 43,
   "metadata": {},
   "outputs": [
    {
     "data": {
      "text/html": [
       "<div>\n",
       "<style scoped>\n",
       "    .dataframe tbody tr th:only-of-type {\n",
       "        vertical-align: middle;\n",
       "    }\n",
       "\n",
       "    .dataframe tbody tr th {\n",
       "        vertical-align: top;\n",
       "    }\n",
       "\n",
       "    .dataframe thead th {\n",
       "        text-align: right;\n",
       "    }\n",
       "</style>\n",
       "<table border=\"1\" class=\"dataframe\">\n",
       "  <thead>\n",
       "    <tr style=\"text-align: right;\">\n",
       "      <th></th>\n",
       "      <th>Name</th>\n",
       "      <th>mfr</th>\n",
       "      <th>calories</th>\n",
       "      <th>protein</th>\n",
       "      <th>fat</th>\n",
       "      <th>sodium</th>\n",
       "      <th>fibre</th>\n",
       "      <th>carbo</th>\n",
       "      <th>sugars</th>\n",
       "      <th>shelf</th>\n",
       "      <th>potassium</th>\n",
       "      <th>vitamins</th>\n",
       "    </tr>\n",
       "  </thead>\n",
       "  <tbody>\n",
       "    <tr>\n",
       "      <th>0</th>\n",
       "      <td>100% Bran</td>\n",
       "      <td>N</td>\n",
       "      <td>212.12</td>\n",
       "      <td>12.12</td>\n",
       "      <td>3.03</td>\n",
       "      <td>393.94</td>\n",
       "      <td>30.30</td>\n",
       "      <td>15.15</td>\n",
       "      <td>18.18</td>\n",
       "      <td>3</td>\n",
       "      <td>848.48</td>\n",
       "      <td>enriched</td>\n",
       "    </tr>\n",
       "    <tr>\n",
       "      <th>1</th>\n",
       "      <td>All-Bran</td>\n",
       "      <td>K</td>\n",
       "      <td>212.12</td>\n",
       "      <td>12.12</td>\n",
       "      <td>3.03</td>\n",
       "      <td>787.88</td>\n",
       "      <td>27.27</td>\n",
       "      <td>21.21</td>\n",
       "      <td>15.15</td>\n",
       "      <td>3</td>\n",
       "      <td>969.70</td>\n",
       "      <td>enriched</td>\n",
       "    </tr>\n",
       "    <tr>\n",
       "      <th>2</th>\n",
       "      <td>All-Bran with Extra Fiber</td>\n",
       "      <td>K</td>\n",
       "      <td>100.00</td>\n",
       "      <td>8.00</td>\n",
       "      <td>0.00</td>\n",
       "      <td>280.00</td>\n",
       "      <td>28.00</td>\n",
       "      <td>16.00</td>\n",
       "      <td>0.00</td>\n",
       "      <td>3</td>\n",
       "      <td>660.00</td>\n",
       "      <td>enriched</td>\n",
       "    </tr>\n",
       "    <tr>\n",
       "      <th>3</th>\n",
       "      <td>Apple Cinnamon Cheerios</td>\n",
       "      <td>G</td>\n",
       "      <td>146.67</td>\n",
       "      <td>2.67</td>\n",
       "      <td>2.67</td>\n",
       "      <td>240.00</td>\n",
       "      <td>2.00</td>\n",
       "      <td>14.00</td>\n",
       "      <td>13.33</td>\n",
       "      <td>1</td>\n",
       "      <td>93.33</td>\n",
       "      <td>enriched</td>\n",
       "    </tr>\n",
       "    <tr>\n",
       "      <th>4</th>\n",
       "      <td>Apple Jacks</td>\n",
       "      <td>K</td>\n",
       "      <td>110.00</td>\n",
       "      <td>2.00</td>\n",
       "      <td>0.00</td>\n",
       "      <td>125.00</td>\n",
       "      <td>1.00</td>\n",
       "      <td>11.00</td>\n",
       "      <td>14.00</td>\n",
       "      <td>2</td>\n",
       "      <td>30.00</td>\n",
       "      <td>enriched</td>\n",
       "    </tr>\n",
       "    <tr>\n",
       "      <th>5</th>\n",
       "      <td>Basic 4</td>\n",
       "      <td>G</td>\n",
       "      <td>173.33</td>\n",
       "      <td>4.00</td>\n",
       "      <td>2.67</td>\n",
       "      <td>280.00</td>\n",
       "      <td>2.67</td>\n",
       "      <td>24.00</td>\n",
       "      <td>10.67</td>\n",
       "      <td>3</td>\n",
       "      <td>133.33</td>\n",
       "      <td>enriched</td>\n",
       "    </tr>\n",
       "    <tr>\n",
       "      <th>6</th>\n",
       "      <td>Bran Chex</td>\n",
       "      <td>R</td>\n",
       "      <td>134.33</td>\n",
       "      <td>2.99</td>\n",
       "      <td>1.49</td>\n",
       "      <td>298.51</td>\n",
       "      <td>5.97</td>\n",
       "      <td>22.39</td>\n",
       "      <td>8.96</td>\n",
       "      <td>1</td>\n",
       "      <td>186.57</td>\n",
       "      <td>enriched</td>\n",
       "    </tr>\n",
       "    <tr>\n",
       "      <th>7</th>\n",
       "      <td>Bran Flakes</td>\n",
       "      <td>P</td>\n",
       "      <td>134.33</td>\n",
       "      <td>4.48</td>\n",
       "      <td>0.00</td>\n",
       "      <td>313.43</td>\n",
       "      <td>7.46</td>\n",
       "      <td>19.40</td>\n",
       "      <td>7.46</td>\n",
       "      <td>3</td>\n",
       "      <td>283.58</td>\n",
       "      <td>enriched</td>\n",
       "    </tr>\n",
       "    <tr>\n",
       "      <th>8</th>\n",
       "      <td>Cap'n'Crunch</td>\n",
       "      <td>Q</td>\n",
       "      <td>160.00</td>\n",
       "      <td>1.33</td>\n",
       "      <td>2.67</td>\n",
       "      <td>293.33</td>\n",
       "      <td>0.00</td>\n",
       "      <td>16.00</td>\n",
       "      <td>16.00</td>\n",
       "      <td>2</td>\n",
       "      <td>46.67</td>\n",
       "      <td>enriched</td>\n",
       "    </tr>\n",
       "    <tr>\n",
       "      <th>9</th>\n",
       "      <td>Cheerios</td>\n",
       "      <td>G</td>\n",
       "      <td>88.00</td>\n",
       "      <td>4.80</td>\n",
       "      <td>1.60</td>\n",
       "      <td>232.00</td>\n",
       "      <td>1.60</td>\n",
       "      <td>13.60</td>\n",
       "      <td>0.80</td>\n",
       "      <td>1</td>\n",
       "      <td>84.00</td>\n",
       "      <td>enriched</td>\n",
       "    </tr>\n",
       "  </tbody>\n",
       "</table>\n",
       "</div>"
      ],
      "text/plain": [
       "                        Name mfr  calories  protein   fat  sodium  fibre  \\\n",
       "0                  100% Bran   N    212.12    12.12  3.03  393.94  30.30   \n",
       "1                   All-Bran   K    212.12    12.12  3.03  787.88  27.27   \n",
       "2  All-Bran with Extra Fiber   K    100.00     8.00  0.00  280.00  28.00   \n",
       "3    Apple Cinnamon Cheerios   G    146.67     2.67  2.67  240.00   2.00   \n",
       "4                Apple Jacks   K    110.00     2.00  0.00  125.00   1.00   \n",
       "5                    Basic 4   G    173.33     4.00  2.67  280.00   2.67   \n",
       "6                  Bran Chex   R    134.33     2.99  1.49  298.51   5.97   \n",
       "7                Bran Flakes   P    134.33     4.48  0.00  313.43   7.46   \n",
       "8               Cap'n'Crunch   Q    160.00     1.33  2.67  293.33   0.00   \n",
       "9                   Cheerios   G     88.00     4.80  1.60  232.00   1.60   \n",
       "\n",
       "   carbo  sugars  shelf  potassium  vitamins  \n",
       "0  15.15   18.18      3     848.48  enriched  \n",
       "1  21.21   15.15      3     969.70  enriched  \n",
       "2  16.00    0.00      3     660.00  enriched  \n",
       "3  14.00   13.33      1      93.33  enriched  \n",
       "4  11.00   14.00      2      30.00  enriched  \n",
       "5  24.00   10.67      3     133.33  enriched  \n",
       "6  22.39    8.96      1     186.57  enriched  \n",
       "7  19.40    7.46      3     283.58  enriched  \n",
       "8  16.00   16.00      2      46.67  enriched  \n",
       "9  13.60    0.80      1      84.00  enriched  "
      ]
     },
     "execution_count": 43,
     "metadata": {},
     "output_type": "execute_result"
    }
   ],
   "source": [
    "import pandas as pd\n",
    "df = pd.read_csv('UScereal.csv')\n",
    "df.head(10)\n"
   ]
  },
  {
   "cell_type": "markdown",
   "metadata": {},
   "source": [
    "2. Find summary statistics of a dataset. Are there any missing values?"
   ]
  },
  {
   "cell_type": "code",
   "execution_count": 61,
   "metadata": {},
   "outputs": [
    {
     "data": {
      "text/html": [
       "<div>\n",
       "<style scoped>\n",
       "    .dataframe tbody tr th:only-of-type {\n",
       "        vertical-align: middle;\n",
       "    }\n",
       "\n",
       "    .dataframe tbody tr th {\n",
       "        vertical-align: top;\n",
       "    }\n",
       "\n",
       "    .dataframe thead th {\n",
       "        text-align: right;\n",
       "    }\n",
       "</style>\n",
       "<table border=\"1\" class=\"dataframe\">\n",
       "  <thead>\n",
       "    <tr style=\"text-align: right;\">\n",
       "      <th></th>\n",
       "      <th>calories</th>\n",
       "      <th>protein</th>\n",
       "      <th>fat</th>\n",
       "      <th>sodium</th>\n",
       "      <th>fibre</th>\n",
       "      <th>carbo</th>\n",
       "      <th>sugars</th>\n",
       "      <th>shelf</th>\n",
       "      <th>potassium</th>\n",
       "    </tr>\n",
       "  </thead>\n",
       "  <tbody>\n",
       "    <tr>\n",
       "      <th>count</th>\n",
       "      <td>65.000000</td>\n",
       "      <td>65.000000</td>\n",
       "      <td>65.000000</td>\n",
       "      <td>65.000000</td>\n",
       "      <td>65.000000</td>\n",
       "      <td>65.000000</td>\n",
       "      <td>65.000000</td>\n",
       "      <td>65.000000</td>\n",
       "      <td>65.000000</td>\n",
       "    </tr>\n",
       "    <tr>\n",
       "      <th>mean</th>\n",
       "      <td>149.408615</td>\n",
       "      <td>3.684000</td>\n",
       "      <td>1.422462</td>\n",
       "      <td>237.838308</td>\n",
       "      <td>3.870923</td>\n",
       "      <td>19.967538</td>\n",
       "      <td>10.051077</td>\n",
       "      <td>2.169231</td>\n",
       "      <td>159.119692</td>\n",
       "    </tr>\n",
       "    <tr>\n",
       "      <th>std</th>\n",
       "      <td>62.411936</td>\n",
       "      <td>2.642821</td>\n",
       "      <td>1.647561</td>\n",
       "      <td>130.629537</td>\n",
       "      <td>6.133094</td>\n",
       "      <td>8.468190</td>\n",
       "      <td>5.835252</td>\n",
       "      <td>0.839815</td>\n",
       "      <td>180.288575</td>\n",
       "    </tr>\n",
       "    <tr>\n",
       "      <th>min</th>\n",
       "      <td>50.000000</td>\n",
       "      <td>0.750000</td>\n",
       "      <td>0.000000</td>\n",
       "      <td>0.000000</td>\n",
       "      <td>0.000000</td>\n",
       "      <td>10.530000</td>\n",
       "      <td>0.000000</td>\n",
       "      <td>1.000000</td>\n",
       "      <td>15.000000</td>\n",
       "    </tr>\n",
       "    <tr>\n",
       "      <th>25%</th>\n",
       "      <td>110.000000</td>\n",
       "      <td>2.000000</td>\n",
       "      <td>0.000000</td>\n",
       "      <td>180.000000</td>\n",
       "      <td>0.000000</td>\n",
       "      <td>15.000000</td>\n",
       "      <td>4.000000</td>\n",
       "      <td>1.000000</td>\n",
       "      <td>45.000000</td>\n",
       "    </tr>\n",
       "    <tr>\n",
       "      <th>50%</th>\n",
       "      <td>134.330000</td>\n",
       "      <td>3.000000</td>\n",
       "      <td>1.000000</td>\n",
       "      <td>232.000000</td>\n",
       "      <td>2.000000</td>\n",
       "      <td>18.670000</td>\n",
       "      <td>12.000000</td>\n",
       "      <td>2.000000</td>\n",
       "      <td>96.590000</td>\n",
       "    </tr>\n",
       "    <tr>\n",
       "      <th>75%</th>\n",
       "      <td>179.100000</td>\n",
       "      <td>4.480000</td>\n",
       "      <td>2.000000</td>\n",
       "      <td>290.000000</td>\n",
       "      <td>4.480000</td>\n",
       "      <td>22.390000</td>\n",
       "      <td>14.000000</td>\n",
       "      <td>3.000000</td>\n",
       "      <td>220.000000</td>\n",
       "    </tr>\n",
       "    <tr>\n",
       "      <th>max</th>\n",
       "      <td>440.000000</td>\n",
       "      <td>12.120000</td>\n",
       "      <td>9.090000</td>\n",
       "      <td>787.880000</td>\n",
       "      <td>30.300000</td>\n",
       "      <td>68.000000</td>\n",
       "      <td>20.900000</td>\n",
       "      <td>3.000000</td>\n",
       "      <td>969.700000</td>\n",
       "    </tr>\n",
       "  </tbody>\n",
       "</table>\n",
       "</div>"
      ],
      "text/plain": [
       "         calories    protein        fat      sodium      fibre      carbo  \\\n",
       "count   65.000000  65.000000  65.000000   65.000000  65.000000  65.000000   \n",
       "mean   149.408615   3.684000   1.422462  237.838308   3.870923  19.967538   \n",
       "std     62.411936   2.642821   1.647561  130.629537   6.133094   8.468190   \n",
       "min     50.000000   0.750000   0.000000    0.000000   0.000000  10.530000   \n",
       "25%    110.000000   2.000000   0.000000  180.000000   0.000000  15.000000   \n",
       "50%    134.330000   3.000000   1.000000  232.000000   2.000000  18.670000   \n",
       "75%    179.100000   4.480000   2.000000  290.000000   4.480000  22.390000   \n",
       "max    440.000000  12.120000   9.090000  787.880000  30.300000  68.000000   \n",
       "\n",
       "          sugars      shelf   potassium  \n",
       "count  65.000000  65.000000   65.000000  \n",
       "mean   10.051077   2.169231  159.119692  \n",
       "std     5.835252   0.839815  180.288575  \n",
       "min     0.000000   1.000000   15.000000  \n",
       "25%     4.000000   1.000000   45.000000  \n",
       "50%    12.000000   2.000000   96.590000  \n",
       "75%    14.000000   3.000000  220.000000  \n",
       "max    20.900000   3.000000  969.700000  "
      ]
     },
     "execution_count": 61,
     "metadata": {},
     "output_type": "execute_result"
    }
   ],
   "source": [
    "df.describe()"
   ]
  },
  {
   "cell_type": "code",
   "execution_count": 60,
   "metadata": {},
   "outputs": [
    {
     "name": "stdout",
     "output_type": "stream",
     "text": [
      "Missing Values\n"
     ]
    },
    {
     "data": {
      "text/plain": [
       "Name         0\n",
       "mfr          0\n",
       "calories     0\n",
       "protein      0\n",
       "fat          0\n",
       "sodium       0\n",
       "fibre        0\n",
       "carbo        0\n",
       "sugars       0\n",
       "shelf        0\n",
       "potassium    0\n",
       "vitamins     0\n",
       "dtype: int64"
      ]
     },
     "execution_count": 60,
     "metadata": {},
     "output_type": "execute_result"
    }
   ],
   "source": [
    "print(\"Missing Values\")\n",
    "df.isnull().sum()\n"
   ]
  },
  {
   "cell_type": "markdown",
   "metadata": {},
   "source": [
    "3. Find average protein value of each Manufacturer."
   ]
  },
  {
   "cell_type": "code",
   "execution_count": 45,
   "metadata": {},
   "outputs": [
    {
     "name": "stdout",
     "output_type": "stream",
     "text": [
      "Average Protein value of each MAnufacturer\n"
     ]
    },
    {
     "data": {
      "text/plain": [
       "mfr\n",
       "G    2.885000\n",
       "K    3.919048\n",
       "N    7.026667\n",
       "P    4.698889\n",
       "Q    3.460000\n",
       "R    2.604000\n",
       "Name: protein, dtype: float64"
      ]
     },
     "execution_count": 45,
     "metadata": {},
     "output_type": "execute_result"
    }
   ],
   "source": [
    "print(\"Average Protein value of each MAnufacturer\")\n",
    "df.groupby('mfr')['protein'].mean()\n"
   ]
  },
  {
   "cell_type": "markdown",
   "metadata": {},
   "source": [
    "4. Find the name of the Cereal with high sugar from Manufacturer G.(3)"
   ]
  },
  {
   "cell_type": "code",
   "execution_count": 46,
   "metadata": {},
   "outputs": [
    {
     "name": "stdout",
     "output_type": "stream",
     "text": [
      "Cereal with highest sugar from Manufacturer G : Oatmeal Raisin Crisp\n"
     ]
    }
   ],
   "source": [
    "print(\"Cereal with highest sugar from Manufacturer G :\",df[df['mfr'] == 'G'].nlargest(1, 'sugars')['Name'].values[0])\n"
   ]
  },
  {
   "cell_type": "markdown",
   "metadata": {},
   "source": [
    "5. Generate any three different suitable plots using matplotlib library for the following. Use appropriate formatting like title, legend, x-value, y-value ect. (3x4=12) \n",
    "a. Using only shelf or vitamins \n",
    "b. Using mfr and fiber \n",
    "c. Using sodium and sugars"
   ]
  },
  {
   "cell_type": "code",
   "execution_count": 47,
   "metadata": {},
   "outputs": [
    {
     "data": {
      "image/png": "[encoded data removed]",
      "text/plain": [
       "<Figure size 800x600 with 1 Axes>"
      ]
     },
     "metadata": {},
     "output_type": "display_data"
    }
   ],
   "source": [
    "import matplotlib.pyplot as plt\n",
    "plt.figure(figsize=(8, 6))\n",
    "plt.bar(df['shelf'], df['sugars'], color='skyblue', alpha=0.7)\n",
    "plt.title('Sugar content by Shelf')\n",
    "plt.xlabel('Shelf')\n",
    "plt.ylabel('Sugar (grams)')\n",
    "plt.show()\n",
    "\n"
   ]
  },
  {
   "cell_type": "code",
   "execution_count": 48,
   "metadata": {},
   "outputs": [
    {
     "data": {
      "image/png": "[encoded data removed]",
      "text/plain": [
       "<Figure size 1000x600 with 1 Axes>"
      ]
     },
     "metadata": {},
     "output_type": "display_data"
    }
   ],
   "source": [
    "plt.figure(figsize=(10, 6))\n",
    "plt.bar(df['mfr'], df['fibre'], label='Fiber', color='green')\n",
    "plt.xlabel('Manufacturer')\n",
    "plt.ylabel('Fiber')\n",
    "plt.title('Fiber by Manufacturer')\n",
    "plt.legend()\n",
    "plt.grid(True)\n"
   ]
  },
  {
   "cell_type": "code",
   "execution_count": 49,
   "metadata": {},
   "outputs": [
    {
     "data": {
      "image/png": "[encoded data removed]",
      "text/plain": [
       "<Figure size 800x600 with 1 Axes>"
      ]
     },
     "metadata": {},
     "output_type": "display_data"
    }
   ],
   "source": [
    "plt.figure(figsize=(8, 6))\n",
    "plt.scatter(df['sodium'], df['sugars'], color='green')\n",
    "plt.title('Sugar vs. Sodium')\n",
    "plt.xlabel('Sodium (mg)')\n",
    "plt.ylabel('Sugar (grams)')\n",
    "plt.grid(True)\n",
    "plt.show()\n",
    "\n"
   ]
  }
 ],
 "metadata": {
  "kernelspec": {
   "display_name": "Python 3",
   "language": "python",
   "name": "python3"
  },
  "language_info": {
   "codemirror_mode": {
    "name": "ipython",
    "version": 3
   },
   "file_extension": ".py",
   "mimetype": "text/x-python",
   "name": "python",
   "nbconvert_exporter": "python",
   "pygments_lexer": "ipython3",
   "version": "3.11.4"
  }
 },
 "nbformat": 4,
 "nbformat_minor": 2
}
